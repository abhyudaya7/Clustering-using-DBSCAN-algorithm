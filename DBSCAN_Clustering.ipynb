{
  "nbformat": 4,
  "nbformat_minor": 0,
  "metadata": {
    "colab": {
      "name": "DBSCAN_Clustering.ipynb",
      "provenance": []
    },
    "kernelspec": {
      "name": "python3",
      "display_name": "Python 3"
    }
  },
  "cells": [
    {
      "cell_type": "code",
      "metadata": {
        "id": "tp_h7bFejau3",
        "colab_type": "code",
        "colab": {}
      },
      "source": [
        "# Importing the required modules\n",
        "import numpy as np \n",
        "import pandas as pd \n",
        "from sklearn.cluster import DBSCAN\n",
        "from sklearn.datasets.samples_generator import make_blobs\n",
        "from sklearn.preprocessing import StandardScaler\n",
        "import matplotlib.pyplot as plt\n",
        "%matplotlib inline"
      ],
      "execution_count": 2,
      "outputs": []
    },
    {
      "cell_type": "code",
      "metadata": {
        "id": "XgyRRGC-mNZ6",
        "colab_type": "code",
        "colab": {}
      },
      "source": [
        "import warnings\n",
        "warnings.filterwarnings('ignore')"
      ],
      "execution_count": 3,
      "outputs": []
    },
    {
      "cell_type": "code",
      "metadata": {
        "id": "g1pWNjbnmZ_m",
        "colab_type": "code",
        "colab": {}
      },
      "source": [
        "# generating random data for clustering \n",
        "# generating 1500 samples with centroid at [4,3],[2,-1],[-1,4]\n",
        "x , y = make_blobs(n_samples = 1500, centers=[[4,3],[2,-1],[-1,4]], cluster_std = 0.5)\n"
      ],
      "execution_count": 5,
      "outputs": []
    },
    {
      "cell_type": "code",
      "metadata": {
        "id": "MZ1YbUL3nhjA",
        "colab_type": "code",
        "colab": {}
      },
      "source": [
        "# standardising the features by putting mean to 0 and variance to 1\n",
        "x = StandardScaler().fit_transform(x)"
      ],
      "execution_count": 6,
      "outputs": []
    },
    {
      "cell_type": "code",
      "metadata": {
        "id": "GJEFrfDjn2nb",
        "colab_type": "code",
        "colab": {
          "base_uri": "https://localhost:8080/",
          "height": 145
        },
        "outputId": "635305be-0731-450a-b721-f2196225cff6"
      },
      "source": [
        "x"
      ],
      "execution_count": 7,
      "outputs": [
        {
          "output_type": "execute_result",
          "data": {
            "text/plain": [
              "array([[-1.52607074,  1.13759239],\n",
              "       [ 0.53522328, -0.96084865],\n",
              "       [ 0.17335399, -1.3309955 ],\n",
              "       ...,\n",
              "       [ 1.17460843,  0.46856295],\n",
              "       [ 0.86709075,  0.28221961],\n",
              "       [ 0.14922435, -1.30482864]])"
            ]
          },
          "metadata": {
            "tags": []
          },
          "execution_count": 7
        }
      ]
    },
    {
      "cell_type": "code",
      "metadata": {
        "id": "tqiMTBJ1n4bM",
        "colab_type": "code",
        "colab": {
          "base_uri": "https://localhost:8080/",
          "height": 35
        },
        "outputId": "04a79d7c-89f6-4fe9-c266-fefacf06a73f"
      },
      "source": [
        "y"
      ],
      "execution_count": 8,
      "outputs": [
        {
          "output_type": "execute_result",
          "data": {
            "text/plain": [
              "array([2, 1, 1, ..., 0, 0, 1])"
            ]
          },
          "metadata": {
            "tags": []
          },
          "execution_count": 8
        }
      ]
    },
    {
      "cell_type": "code",
      "metadata": {
        "id": "XOy5Znqln6rJ",
        "colab_type": "code",
        "colab": {}
      },
      "source": [
        "# Applying the DBSCAN algorithm to randomly generated data \n",
        "# DBSCAN works on two parameters : Epsilon and minimumSamples\n",
        "# Epsilon determines the specific radius of the dense area \n",
        "# minimumSample determine the minimum number of nieghbours we want in a particular cluster\n",
        "db = DBSCAN(eps = 0.3, min_samples = 7).fit(x)\n"
      ],
      "execution_count": 9,
      "outputs": []
    },
    {
      "cell_type": "code",
      "metadata": {
        "id": "kptg63u8qyod",
        "colab_type": "code",
        "colab": {
          "base_uri": "https://localhost:8080/",
          "height": 35
        },
        "outputId": "928988d7-3a81-4633-d5d2-a06751c866f5"
      },
      "source": [
        "labels = db.labels_\n",
        "labels "
      ],
      "execution_count": 10,
      "outputs": [
        {
          "output_type": "execute_result",
          "data": {
            "text/plain": [
              "array([0, 1, 1, ..., 2, 2, 1])"
            ]
          },
          "metadata": {
            "tags": []
          },
          "execution_count": 10
        }
      ]
    },
    {
      "cell_type": "code",
      "metadata": {
        "id": "_WrX_-B2rIVO",
        "colab_type": "code",
        "colab": {}
      },
      "source": [
        "# Determining the outliers"
      ],
      "execution_count": 12,
      "outputs": []
    },
    {
      "cell_type": "code",
      "metadata": {
        "id": "N4PSe2C4sjmw",
        "colab_type": "code",
        "colab": {
          "base_uri": "https://localhost:8080/",
          "height": 35
        },
        "outputId": "e03dd224-7c9e-48c8-d703-b9822b1a584c"
      },
      "source": [
        "core_samples = np.zeros_like(db.labels_, dtype= bool)\n",
        "core_samples[db.core_sample_indices_] = True\n",
        "core_samples"
      ],
      "execution_count": 14,
      "outputs": [
        {
          "output_type": "execute_result",
          "data": {
            "text/plain": [
              "array([ True,  True,  True, ...,  True,  True,  True])"
            ]
          },
          "metadata": {
            "tags": []
          },
          "execution_count": 14
        }
      ]
    },
    {
      "cell_type": "code",
      "metadata": {
        "id": "0dkt77pJtZfI",
        "colab_type": "code",
        "colab": {
          "base_uri": "https://localhost:8080/",
          "height": 35
        },
        "outputId": "360aa574-ca03-4df7-db3b-4230b1afae7f"
      },
      "source": [
        "# Calculating the number of clusters in labels \n",
        "n = len(set(labels)) - (1 if -1 in labels else 0)\n",
        "n"
      ],
      "execution_count": 24,
      "outputs": [
        {
          "output_type": "execute_result",
          "data": {
            "text/plain": [
              "3"
            ]
          },
          "metadata": {
            "tags": []
          },
          "execution_count": 24
        }
      ]
    },
    {
      "cell_type": "code",
      "metadata": {
        "id": "46gS1JQTuMEH",
        "colab_type": "code",
        "colab": {
          "base_uri": "https://localhost:8080/",
          "height": 35
        },
        "outputId": "877350be-fb41-4991-e47a-9a2590134477"
      },
      "source": [
        "unique_labels = set(labels)\n",
        "unique_labels"
      ],
      "execution_count": 27,
      "outputs": [
        {
          "output_type": "execute_result",
          "data": {
            "text/plain": [
              "{-1, 0, 1, 2}"
            ]
          },
          "metadata": {
            "tags": []
          },
          "execution_count": 27
        }
      ]
    },
    {
      "cell_type": "code",
      "metadata": {
        "id": "dCU-ow08uUYz",
        "colab_type": "code",
        "colab": {
          "base_uri": "https://localhost:8080/",
          "height": 265
        },
        "outputId": "3dd360de-22e2-41a7-f8c3-ed29f89e18ba"
      },
      "source": [
        "# Visualizing the clusters\n",
        "\n",
        "# Creating colors for the clusters\n",
        "colors = plt.cm.Spectral(np.linspace(0,1,len(unique_labels)))\n",
        "\n",
        "for k,col in zip(unique_labels ,colors):\n",
        "  if k == -1:\n",
        "    #Black used for noise \n",
        "    col = 'k'\n",
        "  \n",
        "  class_member_check = (labels == k)\n",
        "\n",
        "  # plotting the data points that are clustered \n",
        "  xy = x[class_member_check & core_samples]\n",
        "  plt.scatter(xy[:,0], xy[:,1] , s=50, c = [col], alpha = 0.5 )\n",
        "\n",
        "\n",
        "  # plotting the outliers\n",
        "  xy = x[class_member_check & ~core_samples]\n",
        "  plt.scatter(xy[:,0],xy[:,1],s=50, c= [col], alpha =0.5)\n",
        "plt.show()"
      ],
      "execution_count": 37,
      "outputs": [
        {
          "output_type": "display_data",
          "data": {
            "image/png": "[encoded data removed]",
            "text/plain": [
              "<Figure size 432x288 with 1 Axes>"
            ]
          },
          "metadata": {
            "tags": [],
            "needs_background": "light"
          }
        }
      ]
    }
  ]
}